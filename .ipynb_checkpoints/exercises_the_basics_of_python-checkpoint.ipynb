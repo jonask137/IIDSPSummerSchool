{
 "cells": [
  {
   "cell_type": "markdown",
   "metadata": {},
   "source": [
    "# Python Basics Exercises\n",
    "\n",
    "**Intensive Introduction to Data Science in Python**, Aarhus University"
   ]
  },
  {
   "cell_type": "markdown",
   "metadata": {},
   "source": [
    "In mathematics, the Fibonacci numbers are the numbers in the following integer sequence, called the Fibonacci sequence, and characterized by the fact that every number after the first two is the sum of the two preceding ones:\n",
    "```python\n",
    "1 , 1 , 2 , 3 , 5 , 8 , 13 , 21 , 34 , 55 , 89 , 144 , …\n",
    "```\n",
    "#### Make a list of Fibonacci numbers between 1 and 1000 using `for in`-loop and `if`-condition."
   ]
  },
  {
   "cell_type": "code",
   "execution_count": 34,
   "metadata": {},
   "outputs": [],
   "source": [
    "fibs = [1, 1]"
   ]
  },
  {
   "cell_type": "code",
   "execution_count": 113,
   "metadata": {},
   "outputs": [
    {
     "name": "stdout",
     "output_type": "stream",
     "text": [
      "1  +  1  =  2\n",
      "2  +  1  =  3\n",
      "3  +  2  =  5\n",
      "5  +  3  =  8\n",
      "8  +  5  =  13\n",
      "13  +  8  =  21\n",
      "21  +  13  =  34\n",
      "34  +  21  =  55\n",
      "55  +  34  =  89\n",
      "89  +  55  =  144\n",
      "144  +  89  =  233\n",
      "233  +  144  =  377\n",
      "377  +  233  =  610\n",
      "610  +  377  =  987\n"
     ]
    }
   ],
   "source": [
    "fibs = [1, 1]\n",
    "new = 0\n",
    "for x in range(1000): #We go from 1 to 1000\n",
    "    \n",
    "    if(fibs[-1] + fibs[-2] >= 1000): #If the new number is higher than 1000 break the loop\n",
    "        break\n",
    "    \n",
    "    print(fibs[-1],\" + \",fibs[-2],' = ',fibs[-1] + fibs[-2])\n",
    "    new = fibs[-1] + fibs[-2] #Summing the last and the second last value\n",
    "    fibs.append(new) #Appends "
   ]
  },
  {
   "cell_type": "code",
   "execution_count": 114,
   "metadata": {},
   "outputs": [
    {
     "name": "stdout",
     "output_type": "stream",
     "text": [
      "[1, 1, 2, 3, 5, 8, 13, 21, 34, 55, 89, 144, 233, 377, 610, 987]\n"
     ]
    }
   ],
   "source": [
    "print(fibs)#printing the sequence that we get"
   ]
  },
  {
   "cell_type": "markdown",
   "metadata": {},
   "source": [
    "#### Make a function `check_fib` that takes an integer `x` and returns\n",
    "- `True` if `x` is a Fibonacci number below 1.000.000\n",
    "- `False` if `x` is equal to or more than 1.000.000\n",
    "- `False` if `x` is not a Fibonacci number.\n",
    "\n",
    "Function should return `True` if passed 46368 and `False` if passed 46369."
   ]
  },
  {
   "cell_type": "code",
   "execution_count": 189,
   "metadata": {},
   "outputs": [],
   "source": [
    "### First getting fibonacci numbers up to 1.000.000\n",
    "fibs = [1, 1]\n",
    "new = 0 #An initial value for the new value\n",
    "limit = 1000000 #We set the limit outside the for loop\n",
    "for x in range(1000):\n",
    "    \n",
    "    if(fibs[-1] + fibs[-2] >= limit): #If the new number is higher than 1000 break the loop\n",
    "        break\n",
    "    \n",
    "    #print(fibs[-1],\" + \",fibs[-2],' = ',fibs[-1] + fibs[-2])\n",
    "    new = fibs[-1] + fibs[-2]\n",
    "    fibs.append(new) #Appends "
   ]
  },
  {
   "cell_type": "code",
   "execution_count": 190,
   "metadata": {},
   "outputs": [
    {
     "data": {
      "text/plain": [
       "832040"
      ]
     },
     "execution_count": 190,
     "metadata": {},
     "output_type": "execute_result"
    }
   ],
   "source": [
    "fibs[-1] #Max number"
   ]
  },
  {
   "cell_type": "code",
   "execution_count": 191,
   "metadata": {},
   "outputs": [
    {
     "data": {
      "text/plain": [
       "[<matplotlib.lines.Line2D at 0x1d013894d00>]"
      ]
     },
     "execution_count": 191,
     "metadata": {},
     "output_type": "execute_result"
    },
    {
     "data": {
      "image/png": "[encoded data removed]",
      "text/plain": [
       "<Figure size 432x288 with 1 Axes>"
      ]
     },
     "metadata": {
      "needs_background": "light"
     },
     "output_type": "display_data"
    }
   ],
   "source": [
    "import matplotlib.pyplot as plt\n",
    "plt.plot(fibs)"
   ]
  },
  {
   "cell_type": "code",
   "execution_count": 205,
   "metadata": {},
   "outputs": [
    {
     "data": {
      "text/plain": [
       "True"
      ]
     },
     "execution_count": 205,
     "metadata": {},
     "output_type": "execute_result"
    }
   ],
   "source": [
    "### 2. We can make the check, to see if the number is in the fibonacci sequence.\n",
    "\n",
    "def check_fib(a):\n",
    "    if(a in fibs):\n",
    "        return True\n",
    "    else:\n",
    "        return False\n",
    "\n",
    "#Making the test\n",
    "check_fib(a = 46368) #True"
   ]
  },
  {
   "cell_type": "code",
   "execution_count": 206,
   "metadata": {},
   "outputs": [
    {
     "data": {
      "text/plain": [
       "False"
      ]
     },
     "execution_count": 206,
     "metadata": {},
     "output_type": "execute_result"
    }
   ],
   "source": [
    "check_fib(a = 46369) #False"
   ]
  },
  {
   "cell_type": "markdown",
   "metadata": {},
   "source": [
    "#### Make a list `fibs` holding Fibonacci numbers less than 10.000 and calulate the mean `fibs`."
   ]
  },
  {
   "cell_type": "code",
   "execution_count": 159,
   "metadata": {},
   "outputs": [
    {
     "data": {
      "text/plain": [
       "885.5"
      ]
     },
     "execution_count": 159,
     "metadata": {},
     "output_type": "execute_result"
    }
   ],
   "source": [
    "import numpy\n",
    "fibs = [1, 1]\n",
    "limit = 10000\n",
    "for i in range(limit):  \n",
    "    if (fibs[-1] + fibs[-2] > limit):\n",
    "        break\n",
    "    fibs.append(fibs[-1] + fibs[-2]) \n",
    "numpy.mean(fibs)"
   ]
  },
  {
   "cell_type": "markdown",
   "metadata": {},
   "source": [
    "#### Considering the list `fibs_unsorted`, sort the list (ascending) and find the index of the first Fibonacci number greater than the averge of `fibs`.\n",
    "```python\n",
    "fibs = [5,34,610,13,233,2584,3,21,144,2,89,4181,8,377,1597,987,1,6765,1,55]\n",
    "```"
   ]
  },
  {
   "cell_type": "code",
   "execution_count": 272,
   "metadata": {},
   "outputs": [
    {
     "name": "stdout",
     "output_type": "stream",
     "text": [
      "[5, 34, 610, 13, 233, 2584, 3, 21, 144, 2, 89, 4181, 8, 377, 1597, 987, 1, 6765, 1, 55]\n"
     ]
    }
   ],
   "source": [
    "fibs = [5,34,610,13,233,2584,3,21,144,2,89,4181,8,377,1597,987,1,6765,1,55]\n",
    "print(fibs)"
   ]
  },
  {
   "cell_type": "code",
   "execution_count": 273,
   "metadata": {},
   "outputs": [
    {
     "name": "stdout",
     "output_type": "stream",
     "text": [
      "[1, 1, 2, 3, 5, 8, 13, 21, 34, 55, 89, 144, 233, 377, 610, 987, 1597, 2584, 4181, 6765]\n"
     ]
    }
   ],
   "source": [
    "fibs.sort()\n",
    "print(fibs)"
   ]
  },
  {
   "cell_type": "code",
   "execution_count": 274,
   "metadata": {},
   "outputs": [
    {
     "data": {
      "text/plain": [
       "array([15, 16, 17, 18, 19], dtype=int64)"
      ]
     },
     "execution_count": 274,
     "metadata": {},
     "output_type": "execute_result"
    }
   ],
   "source": [
    "mean = numpy.mean(fibs)\n",
    "numpy.where(fibs > mean)[0] #Returns a list. [0] specifying I want the first item of the given result"
   ]
  },
  {
   "cell_type": "markdown",
   "metadata": {},
   "source": [
    "#### In one line of code, print the sum of the first four and last four elements in `fibs`."
   ]
  },
  {
   "cell_type": "code",
   "execution_count": 276,
   "metadata": {},
   "outputs": [
    {
     "name": "stdout",
     "output_type": "stream",
     "text": [
      "[1, 1, 2, 3]\n",
      "[1597, 2584, 4181, 6765]\n"
     ]
    }
   ],
   "source": [
    "print(fibs[0:4]) #Notice that it does not count the last one\n",
    "            # Means that it is practially first 5 entries, but the last is left out\n",
    "print(fibs[len(fibs)-4:len(fibs)]) #This is selecting the last 4 observations"
   ]
  },
  {
   "cell_type": "code",
   "execution_count": 294,
   "metadata": {},
   "outputs": [
    {
     "data": {
      "text/plain": [
       "15134"
      ]
     },
     "execution_count": 294,
     "metadata": {},
     "output_type": "execute_result"
    }
   ],
   "source": [
    "sum(fibs[0:4]) + sum(fibs[len(fibs)-4:len(fibs)])"
   ]
  },
  {
   "cell_type": "markdown",
   "metadata": {},
   "source": [
    "**This is an alternative approach**. *Here I use the reverse function*"
   ]
  },
  {
   "cell_type": "code",
   "execution_count": 183,
   "metadata": {},
   "outputs": [],
   "source": [
    "fibs.sort()\n",
    "x1 = fibs[0:3]\n",
    "fibs.reverse()\n",
    "x2 = fibs[0:3]"
   ]
  },
  {
   "cell_type": "code",
   "execution_count": 187,
   "metadata": {},
   "outputs": [
    {
     "name": "stdout",
     "output_type": "stream",
     "text": [
      "[1, 1, 2]\n",
      "[6765, 4181, 2584]\n",
      "Adding the two sequences\n"
     ]
    },
    {
     "data": {
      "text/plain": [
       "13534"
      ]
     },
     "execution_count": 187,
     "metadata": {},
     "output_type": "execute_result"
    }
   ],
   "source": [
    "print(x1)\n",
    "print(x2)\n",
    "print(\"Adding the two sequences\")\n",
    "sum(x1) + sum(x2)"
   ]
  },
  {
   "cell_type": "markdown",
   "metadata": {},
   "source": [
    "#### Write a function to check if an integer is the power of another integer.\n",
    "```python\n",
    "# Example of function input and output:\n",
    "Input: 16, 2\n",
    "Output: True\n",
    "```"
   ]
  },
  {
   "cell_type": "code",
   "execution_count": 284,
   "metadata": {},
   "outputs": [
    {
     "data": {
      "text/plain": [
       "[1,\n",
       " 3,\n",
       " 9,\n",
       " 27,\n",
       " 81,\n",
       " 243,\n",
       " 729,\n",
       " 2187,\n",
       " 6561,\n",
       " 19683,\n",
       " 59049,\n",
       " 177147,\n",
       " 531441,\n",
       " 1594323,\n",
       " 4782969,\n",
       " 14348907,\n",
       " 43046721,\n",
       " 129140163,\n",
       " 387420489,\n",
       " 1162261467]"
      ]
     },
     "execution_count": 284,
     "metadata": {},
     "output_type": "execute_result"
    }
   ],
   "source": [
    "powers = [] #Square brackets to make a list\n",
    "    \n",
    "b = 3\n",
    "for p in range(0,20):\n",
    "    powers.append(b ** p)\n",
    "    \n",
    "powers"
   ]
  },
  {
   "cell_type": "code",
   "execution_count": 292,
   "metadata": {},
   "outputs": [],
   "source": [
    "def control(a,b):\n",
    "    \n",
    "    powers = [] #Create a\n",
    "    \n",
    "    for p in range(0,20):\n",
    "        powers.append(b ** p)\n",
    "    \n",
    "    if a in powers:\n",
    "        return True\n",
    "    else:\n",
    "        return False"
   ]
  },
  {
   "cell_type": "code",
   "execution_count": 293,
   "metadata": {},
   "outputs": [
    {
     "data": {
      "text/plain": [
       "True"
      ]
     },
     "execution_count": 293,
     "metadata": {},
     "output_type": "execute_result"
    }
   ],
   "source": [
    "control(a=16,b=2)"
   ]
  },
  {
   "cell_type": "markdown",
   "metadata": {},
   "source": [
    "#### Write a function to compute and return the integer square root of a given integer `x`.\n",
    "- if `x` is not an integer, return a string letting the user know: `x` [number] is not an integer.\n",
    "- If no square root is found, return a string letting the user know: `x` [number] has no integer square root.\n",
    "\n",
    "```python\n",
    "# Example of function inputs and outputs:\n",
    "Input: 16\n",
    "Output: 4\n",
    "    \n",
    "Input: 16.3\n",
    "Output: \"16.3 is not an integer\"\n",
    "    \n",
    "Input: 15\n",
    "Output: \"15 has no integer square root\"\n",
    "```"
   ]
  },
  {
   "cell_type": "code",
   "execution_count": 362,
   "metadata": {},
   "outputs": [
    {
     "data": {
      "text/plain": [
       "float"
      ]
     },
     "execution_count": 362,
     "metadata": {},
     "output_type": "execute_result"
    }
   ],
   "source": [
    "type(16.3)"
   ]
  },
  {
   "cell_type": "code",
   "execution_count": 378,
   "metadata": {},
   "outputs": [
    {
     "data": {
      "text/plain": [
       "0.0"
      ]
     },
     "execution_count": 378,
     "metadata": {},
     "output_type": "execute_result"
    }
   ],
   "source": [
    "#int(9 ** 0.5)\n",
    "\n",
    "int(15.9)-15.5\n",
    "int(15.0)-15.0"
   ]
  },
  {
   "cell_type": "code",
   "execution_count": 389,
   "metadata": {},
   "outputs": [],
   "source": [
    "def sqrt(x):\n",
    "    \n",
    "    #First, control for input value being integer\n",
    "    if isinstance(x,int) != True: #We check for the input to have the right format\n",
    "        print(x,\"is not an integer\")\n",
    "     \n",
    "    #Second, control for the input value having a square root\n",
    "    elif int(x ** 0.5) - x ** 0.5 != 0.0:\n",
    "        print(x,\"has no integer square root\")\n",
    "     \n",
    "    #Third, if the input value is an integer and has a square root int value, then calculate\n",
    "    else:\n",
    "        print(x ** 0.5)"
   ]
  },
  {
   "cell_type": "code",
   "execution_count": 390,
   "metadata": {},
   "outputs": [
    {
     "name": "stdout",
     "output_type": "stream",
     "text": [
      "9.1 is not an integer\n"
     ]
    }
   ],
   "source": [
    "sqrt(9.1)"
   ]
  },
  {
   "cell_type": "markdown",
   "metadata": {},
   "source": [
    "#### Write a function to multiply every element of a list of numbers\n",
    "```python\n",
    "# Example of function input and output:\n",
    "Input : [5, 3, 4, 3, 5, 5, 3]\n",
    "Output : 13500\n",
    "```"
   ]
  },
  {
   "cell_type": "code",
   "execution_count": 393,
   "metadata": {},
   "outputs": [
    {
     "data": {
      "text/plain": [
       "13500"
      ]
     },
     "execution_count": 393,
     "metadata": {},
     "output_type": "execute_result"
    }
   ],
   "source": [
    "input = [5, 3, 4, 3, 5, 5, 3]\n",
    "\n",
    "numpy.prod(input)"
   ]
  },
  {
   "cell_type": "markdown",
   "metadata": {},
   "source": [
    "#### Write a function to reverse the digits of an integer\n",
    "```python\n",
    "# Example of function inputs and outputs:\n",
    "Input: 234\n",
    "Output: 432\n",
    "    \n",
    "Input: -234\n",
    "Output: -432\n",
    "\n",
    "Input: 120\n",
    "Output: 21\n",
    "```\n",
    "Hint: Strings can be reversed using `my_string[::-1]` (Syntax: `[begin:end:step]`)"
   ]
  },
  {
   "cell_type": "code",
   "execution_count": 441,
   "metadata": {},
   "outputs": [],
   "source": [
    "x = 123\n",
    "str(x)[::-1]\n",
    "\n",
    "def test(x):\n",
    "    \n",
    "    if x > 0:\n",
    "        print(int(str(x)[::-1])) #We use int to get rid of 0's\n",
    "    else:\n",
    "        print(f'-{int(str(-x)[::-1])}')\n",
    "        "
   ]
  },
  {
   "cell_type": "code",
   "execution_count": 443,
   "metadata": {},
   "outputs": [
    {
     "name": "stdout",
     "output_type": "stream",
     "text": [
      "21\n"
     ]
    }
   ],
   "source": [
    "test(120)"
   ]
  },
  {
   "cell_type": "markdown",
   "metadata": {},
   "source": [
    "#### Find the Fibonacci number nearest to 1500 using `min()`. *Difficult*"
   ]
  },
  {
   "cell_type": "code",
   "execution_count": 449,
   "metadata": {},
   "outputs": [],
   "source": [
    "fibs = [1, 1]\n",
    "new = 0\n",
    "limit = 2000\n",
    "for x in range(1000): #We go from 1 to 1000\n",
    "    \n",
    "    if(fibs[-1] + fibs[-2] >= limit): #If the new number is higher than 1000 break the loop\n",
    "        break\n",
    "        \n",
    "    new = fibs[-1] + fibs[-2] #Summing the last and the second last value\n",
    "    fibs.append(new) #Appends "
   ]
  },
  {
   "cell_type": "code",
   "execution_count": 455,
   "metadata": {},
   "outputs": [
    {
     "data": {
      "text/plain": [
       "array([   1,    1,    2,    3,    5,    8,   13,   21,   34,   55,   89,\n",
       "        144,  233,  377,  610,  987, 1597])"
      ]
     },
     "execution_count": 455,
     "metadata": {},
     "output_type": "execute_result"
    }
   ],
   "source": [
    "fibs_array = numpy.array(fibs)\n",
    "fibs_array"
   ]
  },
  {
   "cell_type": "code",
   "execution_count": 465,
   "metadata": {},
   "outputs": [
    {
     "data": {
      "text/plain": [
       "array([1499, 1499, 1498, 1497, 1495, 1492, 1487, 1479, 1466, 1445, 1411,\n",
       "       1356, 1267, 1123,  890,  513,   97])"
      ]
     },
     "execution_count": 465,
     "metadata": {},
     "output_type": "execute_result"
    }
   ],
   "source": [
    "fibs_array = abs(fibs_array - 1500)\n",
    "fibs_array"
   ]
  },
  {
   "cell_type": "code",
   "execution_count": 470,
   "metadata": {},
   "outputs": [
    {
     "data": {
      "text/plain": [
       "(array([16], dtype=int64),)"
      ]
     },
     "execution_count": 470,
     "metadata": {},
     "output_type": "execute_result"
    }
   ],
   "source": [
    "numpy.where(fibs_array == min(fibs_array)) #We see that element 16 (including element 0) is the lowest"
   ]
  },
  {
   "cell_type": "code",
   "execution_count": 478,
   "metadata": {},
   "outputs": [
    {
     "data": {
      "text/plain": [
       "16"
      ]
     },
     "execution_count": 478,
     "metadata": {},
     "output_type": "execute_result"
    }
   ],
   "source": [
    "numpy.where(fibs_array == min(fibs_array))[0]\n",
    "lowest = int(numpy.where(fibs_array == min(fibs_array))[0])\n",
    "lowest"
   ]
  },
  {
   "cell_type": "markdown",
   "metadata": {},
   "source": [
    "Now we can use that index number to find the fibonacci number"
   ]
  },
  {
   "cell_type": "code",
   "execution_count": 479,
   "metadata": {},
   "outputs": [
    {
     "data": {
      "text/plain": [
       "1597"
      ]
     },
     "execution_count": 479,
     "metadata": {},
     "output_type": "execute_result"
    }
   ],
   "source": [
    "fibs[lowest]\n",
    "#min(fibs_array, key=lambda x:abs(x-1500)) #This is an alternative"
   ]
  }
 ],
 "metadata": {
  "kernelspec": {
   "display_name": "Python 3",
   "language": "python",
   "name": "python3"
  },
  "language_info": {
   "codemirror_mode": {
    "name": "ipython",
    "version": 3
   },
   "file_extension": ".py",
   "mimetype": "text/x-python",
   "name": "python",
   "nbconvert_exporter": "python",
   "pygments_lexer": "ipython3",
   "version": "3.8.5"
  }
 },
 "nbformat": 4,
 "nbformat_minor": 2
}
